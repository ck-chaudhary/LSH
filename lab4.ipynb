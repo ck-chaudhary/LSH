{
  "nbformat": 4,
  "nbformat_minor": 0,
  "metadata": {
    "kernelspec": {
      "display_name": "Python 3",
      "language": "python",
      "name": "python3"
    },
    "language_info": {
      "codemirror_mode": {
        "name": "ipython",
        "version": 3
      },
      "file_extension": ".py",
      "mimetype": "text/x-python",
      "name": "python",
      "nbconvert_exporter": "python",
      "pygments_lexer": "ipython3",
      "version": "3.6.8"
    },
    "colab": {
      "name": "lab4.ipynb",
      "version": "0.3.2",
      "provenance": [],
      "toc_visible": true,
      "include_colab_link": true
    }
  },
  "cells": [
    {
      "cell_type": "markdown",
      "metadata": {
        "id": "view-in-github",
        "colab_type": "text"
      },
      "source": [
        "<a href=\"https://colab.research.google.com/github/ck-chaudhary/LSH/blob/master/lab4.ipynb\" target=\"_parent\"><img src=\"https://colab.research.google.com/assets/colab-badge.svg\" alt=\"Open In Colab\"/></a>"
      ]
    },
    {
      "cell_type": "markdown",
      "metadata": {
        "id": "6FwAQ1haPwZ4",
        "colab_type": "text"
      },
      "source": [
        "# Locality sensitive hashing using MinHash\n",
        "\n",
        "The idea behind locality sensitive hashing is to take the document fingerprints and chop them up into pieces, each piece being some number of `minhash`es. Since a single `minhash` (single entry in the fingerprint) has a probability equal to the Jaccard similarity of producing a collision, each chopped up portion of the fingerprint should as well. This chopped up portion is the `locality` in locality sensitive hashing, the `hashing` is just a hash function (any hash function) which produces a `bin ID` from the fingerprint `locality` being hashed. Each bin holds the entire fingerprint (with optional meta information) of the document and that of other documents that hash to the same `bin`.\n",
        "\n",
        "Let's say our fingerprint has 100 `minhash`es in it and we chop the fingerprints into 10 pieces. Each piece of each fingerprint therefore contains 10 `minhash`es, we hash those again (not using `minhash` this time) to get a `bin ID` and store the whole fingerprint in every bin each of the pieces happens to land in.\n",
        "\n",
        "When we want to know which documents are similar to a query document, we look in all the bins the query document lands in, any document in any of the bins is a potential duplicate. Comparing the full fingerprint of all documents in the bin or computing the actual Jaccard similarity between the shingle sets yields the final similarity of documents. Crucially _since not all documents will land in the same bins we've reduced the number of comparisons needed to find similar or near duplicate documents_.\n",
        "\n",
        "The number of pieces to chop each fingerprint into and the size of each piece are parameters that need to be set. These should be set such that $num\\_pieces \\times size\\_of\\_piece == num\\_minhashes$ - this makes sense since having computed all the $N$ `minhash`es we want to use all of them in the locality sensitive hashing part. There is however a further issue that needs to be considered when setting the parameters; the relation between the number and size of the pieces and the probability of LSH \"finding\" a pair of similar documents.\n",
        "\n",
        "LSH is a probabilistic model which means that it won't always do the \"right thing\". Using LSH one needs to consider the similarity of a pair of documents (in this case the Jaccard similarity) and the probability that LSH will find that pair to be similar (a true positive, i.e. a correctly discovered duplicate pair). The pair of documents LSH finds to be similar should be thought of as _candidate_ duplicates. The higher the probability, or guarantee, that LSH will find a pair of documents to be similar the more false positives the model will also produce, that is candidate duplicates that are not in fact duplicates."
      ]
    },
    {
      "cell_type": "code",
      "metadata": {
        "ExecuteTime": {
          "end_time": "2017-06-01T14:22:01.613179Z",
          "start_time": "2017-06-01T14:21:44.613310Z"
        },
        "id": "-HITYjMpPwaB",
        "colab_type": "code",
        "colab": {}
      },
      "source": [
        "%matplotlib inline\n",
        "\n",
        "import numpy as np\n",
        "import pandas as pd\n",
        "import seaborn as sns\n",
        "from matplotlib import pyplot as plt\n",
        "\n",
        "ix = pd.IndexSlice"
      ],
      "execution_count": 0,
      "outputs": []
    },
    {
      "cell_type": "markdown",
      "metadata": {
        "id": "4cnJlqPtPwaV",
        "colab_type": "text"
      },
      "source": [
        "## How setting LSH parameters affects finding similar documents"
      ]
    },
    {
      "cell_type": "markdown",
      "metadata": {
        "id": "fq6D5lOiPwaa",
        "colab_type": "text"
      },
      "source": [
        "Create a pandas dataframe with different configurations for b and r values. The different sizes are as follows: (2, 50), (50, 2), (10, 10), (5, 20), (20, 5)."
      ]
    },
    {
      "cell_type": "code",
      "metadata": {
        "id": "_h8RGFNPRjNG",
        "colab_type": "code",
        "outputId": "9da79ee9-a0bc-4fab-b489-5919876ab52f",
        "colab": {
          "base_uri": "https://localhost:8080/",
          "height": 283
        }
      },
      "source": [
        "thresh = np.arange(0,1.005,0.005)\n",
        "br_lst = [(2,50),(50,2),(10,10),(5,20),(20,5)]\n",
        "ax = None\n",
        "for k in br_lst:\n",
        "  p=[];b=k[0];r=k[1]\n",
        "  for t in thresh:\n",
        "    p.append(1-(1-(t**b))**r)\n",
        "    \n",
        "  df = pd.DataFrame({'Column1':p, 'Column2':thresh})\n",
        "  ax = df.plot(ax=ax,x='Column2',y='Column1')"
      ],
      "execution_count": 394,
      "outputs": [
        {
          "output_type": "display_data",
          "data": {
            "image/png": "[encoded data removed]",
            "text/plain": [
              "<Figure size 432x288 with 1 Axes>"
            ]
          },
          "metadata": {
            "tags": []
          }
        }
      ]
    },
    {
      "cell_type": "code",
      "metadata": {
        "id": "FCjk5e2etlMo",
        "colab_type": "code",
        "colab": {}
      },
      "source": [
        "# df=pd.DataFrame(data)\n",
        "# df"
      ],
      "execution_count": 0,
      "outputs": []
    },
    {
      "cell_type": "code",
      "metadata": {
        "id": "MnsmVGd9y3D4",
        "colab_type": "code",
        "colab": {}
      },
      "source": [
        "# r=[50,2,10,20,5]\n",
        "# b=[2,50,10,5,20]\n",
        "# y=[]\n",
        "# x=np.arange(0,1.005,.005)\n",
        "# for i in range(0,5):\n",
        "#   y=1-(1- x ** r[i])**b[i]\n",
        "#   plt.plot(x,y,color=\"lightblue\")\n",
        "#   plt.show()"
      ],
      "execution_count": 0,
      "outputs": []
    },
    {
      "cell_type": "markdown",
      "metadata": {
        "id": "Bz2AS-ToPwae",
        "colab_type": "text"
      },
      "source": [
        "For every b and r compute the probability values using the equation discussed in class i.e, $p = 1 - (1 - t^b)^r$. Vary the threshold value from 0 to 1 with around 200 intervals."
      ]
    },
    {
      "cell_type": "markdown",
      "metadata": {
        "id": "bsxchC5qPwai",
        "colab_type": "text"
      },
      "source": [
        "Create a pandas pivot table with the columns hashes, bands, row."
      ]
    },
    {
      "cell_type": "markdown",
      "metadata": {
        "id": "MSobLxQTPwam",
        "colab_type": "text"
      },
      "source": [
        "Initialize a plot with figsize of (10, 7) and title \"Probability of LSH of finding a candidate pair\""
      ]
    },
    {
      "cell_type": "markdown",
      "metadata": {
        "id": "aFWeg8ytPwaq",
        "colab_type": "text"
      },
      "source": [
        "Set ylabel to be \"p\" and xlabel to be \"Jaccard Similarity\". Now display the plot with the different values. "
      ]
    },
    {
      "cell_type": "markdown",
      "metadata": {
        "id": "nvEc7bh6Pwav",
        "colab_type": "text"
      },
      "source": [
        "## Computing LSH"
      ]
    },
    {
      "cell_type": "markdown",
      "metadata": {
        "id": "D5o9FP4bPway",
        "colab_type": "text"
      },
      "source": [
        "Now import the MinHash function from your last assignment to get the MinHashSim matrix. You may re-insert the entire function too here."
      ]
    },
    {
      "cell_type": "markdown",
      "metadata": {
        "id": "t7yEKwniPwa6",
        "colab_type": "text"
      },
      "source": [
        "Now set the different parameters that you shall need from the MinHashSim matrix. Like, the numHashes, numBands, numRows, and numRowsPerBand"
      ]
    },
    {
      "cell_type": "markdown",
      "metadata": {
        "id": "dlxQb9KlVOFE",
        "colab_type": "text"
      },
      "source": [
        "data = {'Name':['Tom', 'nick', 'krish', 'jack'],\n",
        "        'Age':[20, 21, 19, 18]}"
      ]
    },
    {
      "cell_type": "markdown",
      "metadata": {
        "id": "g5Zf0Jh9Pwa9",
        "colab_type": "text"
      },
      "source": [
        "Write the LSH function that will re-use the same hash functions computed for MinHash to iterate through every band (and every document in the band) and find out the new hash value. Create a new list for the band and check if the hash value is already in it. If not then add the new hash value."
      ]
    },
    {
      "cell_type": "markdown",
      "metadata": {
        "id": "X3qgo3v4PwbA",
        "colab_type": "text"
      },
      "source": [
        "Maintain a global dictionary of buckets (for every band) and keep adding the buckets as and when they are created."
      ]
    },
    {
      "cell_type": "markdown",
      "metadata": {
        "id": "WX7T0GEWPwbC",
        "colab_type": "text"
      },
      "source": [
        "Now write a getNearest(n) function, which will find out that for a document 'n' find out and display the nearest documents as a list of document numbers. "
      ]
    },
    {
      "cell_type": "markdown",
      "metadata": {
        "id": "9gQH1EBSPwbG",
        "colab_type": "text"
      },
      "source": [
        "Now set a threshold and find out how many false positives and false negatives you are getting. You have to now compare with the JaccSim matrix to get the document similarities."
      ]
    },
    {
      "cell_type": "markdown",
      "metadata": {
        "id": "zflzXygFPwbK",
        "colab_type": "text"
      },
      "source": [
        "Repeat the experiments for the docs_1000, docs_2500, and docs_10000 data sets. To be downloaded from this git link. : https://github.com/dipsankarb/data.git . Also, please do not push the data files while submitting the assignment."
      ]
    },
    {
      "cell_type": "code",
      "metadata": {
        "id": "6CazVYQXZiHR",
        "colab_type": "code",
        "colab": {}
      },
      "source": [
        "import os\n",
        "import re\n",
        "import random\n",
        "import time\n",
        "import binascii"
      ],
      "execution_count": 0,
      "outputs": []
    },
    {
      "cell_type": "code",
      "metadata": {
        "id": "bLUFV1U5ZzuF",
        "colab_type": "code",
        "colab": {}
      },
      "source": [
        "numHashRows = 150;\n",
        "b=10\n",
        "r=15\n",
        "tstart=time.time()"
      ],
      "execution_count": 0,
      "outputs": []
    },
    {
      "cell_type": "code",
      "metadata": {
        "id": "BLUAjpkSZ5Y5",
        "colab_type": "code",
        "colab": {}
      },
      "source": [
        "numDocs = 10000 # Start with 100. Meaning there are 100 articles in 1 data file (same as 100 individual docs).\n",
        "dataFile = \"/content/drive/My Drive/Data_analytics/cs606-lab4-ck-chaudhary/data-master/docs_\" + str(numDocs) + \".train\"\n",
        "plagFile = \"/content/drive/My Drive/Data_analytics/cs606-lab4-ck-chaudhary/data-master/docs_\" + str(numDocs) + \".plag\""
      ],
      "execution_count": 0,
      "outputs": []
    },
    {
      "cell_type": "code",
      "metadata": {
        "id": "Baa-afFZaATi",
        "colab_type": "code",
        "outputId": "fdf7e0bb-5b0b-46ba-bf6f-620f7dfea2f5",
        "colab": {
          "base_uri": "https://localhost:8080/",
          "height": 72
        }
      },
      "source": [
        "plagiarisms = {}\n",
        "\n",
        "# Open the plag file.\n",
        "f = open(plagFile, \"rU\")"
      ],
      "execution_count": 400,
      "outputs": [
        {
          "output_type": "stream",
          "text": [
            "/usr/local/lib/python3.6/dist-packages/ipykernel_launcher.py:4: DeprecationWarning: 'U' mode is deprecated\n",
            "  after removing the cwd from sys.path.\n"
          ],
          "name": "stderr"
        }
      ]
    },
    {
      "cell_type": "code",
      "metadata": {
        "id": "7jVH98REbjqP",
        "colab_type": "code",
        "colab": {
          "base_uri": "https://localhost:8080/",
          "height": 1000
        },
        "outputId": "6e29631b-e9df-43c0-f65f-5e5cab721b28"
      },
      "source": [
        "# For each pair reported\n",
        "for line in f:\n",
        "  \n",
        "  # Remove new-line character if present\n",
        "  if line[-1] == '\\n':\n",
        "      line = line[0:-1]\n",
        "      \n",
        "  docs = line.split(\" \")\n",
        " # print(docs)\n",
        "\n",
        "  # Keep a map of the two documents\n",
        "  plagiarisms[docs[0]] = docs[1]\n",
        "  plagiarisms[docs[1]] = docs[0]\n",
        "\n",
        "# Now convert the documents to shingles\n",
        "#print(plagiarisms)\n"
      ],
      "execution_count": 401,
      "outputs": [
        {
          "output_type": "stream",
          "text": [
            "['t1088', 't5015']\n",
            "['t1297', 't4638']\n",
            "['t1768', 't5248']\n",
            "['t1952', 't3495']\n",
            "['t980', 't2023']\n",
            "['t2535', 't8642']\n",
            "['t2839', 't9303']\n",
            "['t2957', 't7111']\n",
            "['t3268', 't7998']\n",
            "['t3466', 't7563']\n",
            "['t3575', 't8979']\n",
            "['t3725', 't4099']\n",
            "['t4467', 't6205']\n",
            "['t4530', 't7907']\n",
            "['t906', 't5442']\n",
            "['t5551', 't7693']\n",
            "['t969', 't6244']\n",
            "['t7270', 't8387']\n",
            "['t7527', 't8101']\n",
            "['t787', 't9596']\n",
            "['t8306', 't8805']\n",
            "['t840', 't9579']\n",
            "['t8826', 't9285']\n",
            "['t1012', 't9363']\n",
            "['t1142', 't2475']\n",
            "['t1206', 't4591']\n",
            "['t492', 't1436']\n",
            "['t1488', 't9549']\n",
            "['t5304', 't7320']\n",
            "['t7412', 't7623']\n",
            "['t104', 't4172']\n",
            "['t1057', 't5702']\n",
            "['t1295', 't6680']\n",
            "['t1374', 't3257']\n",
            "['t1403', 't5999']\n",
            "['t764', 't1513']\n",
            "['t1583', 't9230']\n",
            "['t1621', 't7958']\n",
            "['t1726', 't9170']\n",
            "['t1782', 't7716']\n",
            "['t1898', 't8090']\n",
            "['t1998', 't5871']\n",
            "['t2001', 't5239']\n",
            "['t2100', 't6571']\n",
            "['t2121', 't3020']\n",
            "['t2356', 't4015']\n",
            "['t2390', 't4969']\n",
            "['t673', 't2432']\n",
            "['t269', 't8413']\n",
            "['t288', 't6999']\n",
            "['t3072', 't7923']\n",
            "['t797', 't3088']\n",
            "['t3136', 't8469']\n",
            "['t321', 't6539']\n",
            "['t3358', 't4022']\n",
            "['t379', 't3446']\n",
            "['t644', 't3600']\n",
            "['t617', 't3684']\n",
            "['t3702', 't6235']\n",
            "['t3727', 't3982']\n",
            "['t3783', 't6092']\n",
            "['t538', 't3889']\n",
            "['t4211', 't9248']\n",
            "['t4455', 't7717']\n",
            "['t448', 't8535']\n",
            "['t4615', 't8496']\n",
            "['t646', 't4628']\n",
            "['t462', 't7069']\n",
            "['t4755', 't5544']\n",
            "['t4792', 't7973']\n",
            "['t4910', 't5780']\n",
            "['t5262', 't6261']\n",
            "['t5411', 't9894']\n",
            "['t5416', 't9355']\n",
            "['t6370', 't9445']\n",
            "['t6520', 't6906']\n",
            "['t6613', 't9385']\n",
            "['t8164', 't9455']\n",
            "['t8561', 't9620']\n",
            "['t8861', 't9724']\n"
          ],
          "name": "stdout"
        }
      ]
    },
    {
      "cell_type": "code",
      "metadata": {
        "id": "8FCgSGb9caBP",
        "colab_type": "code",
        "outputId": "4d782824-7d7e-40e1-dce2-93648ea99bf8",
        "colab": {
          "base_uri": "https://localhost:8080/",
          "height": 89
        }
      },
      "source": [
        "# Now convert the documents to shingles\n",
        "\n",
        "print(\"Creating shingles....\")\n",
        "\n",
        "# Keep a current ID for the current shingle. When a new shingle is encountered in\n",
        "# the dictionary, we will update this.\n",
        "\n",
        "currentShingleID = 0\n",
        "\n",
        "# Create a dictionary for the articles having a mapping of the article identifier\n",
        "# for example t123, to the list of the shingle IDs.\n",
        "\n",
        "documentShingleSets = {};\n",
        "  \n",
        "# Open the data file.\n",
        "f = open(dataFile, \"rU\")\n",
        "\n",
        "documentNames = []\n",
        "\n",
        "numShingles = 0"
      ],
      "execution_count": 402,
      "outputs": [
        {
          "output_type": "stream",
          "text": [
            "Creating shingles....\n"
          ],
          "name": "stdout"
        },
        {
          "output_type": "stream",
          "text": [
            "/usr/local/lib/python3.6/dist-packages/ipykernel_launcher.py:15: DeprecationWarning: 'U' mode is deprecated\n",
            "  from ipykernel import kernelapp as app\n"
          ],
          "name": "stderr"
        }
      ]
    },
    {
      "cell_type": "code",
      "metadata": {
        "id": "IYvOlAiDfk5v",
        "colab_type": "code",
        "colab": {}
      },
      "source": [
        "\n",
        "for i in range(0, numDocs):\n",
        "   \n",
        "    \n",
        "      \n",
        "\n",
        "  # ADD CODE HERE TO DO THE FOLLOWING:\n",
        "\n",
        "  # Read all the words (may need splitting)\n",
        "  # Maintain a list of document IDs (article IDs)\n",
        "\n",
        "  # Create a set of shingles called shinglesInDocument\n",
        "\n",
        "  # For each word in document create a shingle by combining 3 consecutive\n",
        "  # words together. This is where the Python set will help as it will \n",
        "  # automatically remove duplicate shingles.\n",
        "\n",
        "  # Use the binascii library to hash every shingle to a 32 bit integer.\n",
        "  # Read binascii manual to find out how to use them.\n",
        "  # Add the hashed value to the set.\n",
        "\n",
        "  # Now add the completed set of shingles to the documentShingleSets dictionary.\n",
        "  # Keep a count of the total number of shingles found in numShingles.\n",
        "\n",
        "# Close the data file.  \n",
        "    \n",
        "  # Read all of the words (they are all on one line) and split them by white\n",
        "  # space.\n",
        "  words = f.readline().split(\" \") \n",
        "  \n",
        "  # Retrieve the article ID, which is the first word on the line.  \n",
        "  docID = words[0]\n",
        "  \n",
        "  # Maintain a list of all document IDs.  \n",
        "  if(docID):\n",
        "    documentNames.append(docID)\n",
        " #print(documentNames)\n",
        "    \n",
        "  del words[0]  \n",
        "  \n",
        "  # 'shinglesInDoc' will hold all of the unique shingle IDs present in the \n",
        "  # current document. If a shingle ID occurs multiple times in the document,\n",
        "  # it will only appear once in the set (this is a property of Python sets).\n",
        "  shinglesInDoc = set()\n",
        "  \n",
        "  # For each word in the document...\n",
        "  for index in range(0, len(words) - 2):\n",
        "    # Construct the shingle text by combining three words together.\n",
        "    shingle = words[index] + \" \" + words[index + 1] + \" \" + words[index + 2]\n",
        "    #print(shingle)\n",
        "\n",
        "    # Hash the shingle to a 32-bit integer.\n",
        "    crc = binascii.crc32(shingle.encode()) & 0xffffffff\n",
        "    \n",
        "    # Add the hash value to the list of shingles for the current document. \n",
        "    # Note that set objects will only add the value to the set if the set \n",
        "    # doesn't already contain it. \n",
        "    shinglesInDoc.add(crc)\n",
        "  \n",
        "  # Store the completed list of shingles for this document in the dictionary.\n",
        "  documentShingleSets[docID] = shinglesInDoc\n",
        "  #if(i==0):\n",
        "    #print(documentShingleSets)\n",
        "  \n",
        "  # Count the number of shingles across all documents.\n",
        "  numShingles = numShingles + (len(words) - 2)\n",
        "\n",
        "# Close the data file.\n",
        "#f.close()  "
      ],
      "execution_count": 0,
      "outputs": []
    },
    {
      "cell_type": "code",
      "metadata": {
        "id": "gqaYa_jML_Wt",
        "colab_type": "code",
        "outputId": "f86580d5-587d-45b7-99d2-d3a2c31d4e32",
        "colab": {
          "base_uri": "https://localhost:8080/",
          "height": 52
        }
      },
      "source": [
        "\n",
        " \n",
        "print ('\\nAverage shingles per doc: %.2f' % (numShingles / numDocs))"
      ],
      "execution_count": 404,
      "outputs": [
        {
          "output_type": "stream",
          "text": [
            "\n",
            "Average shingles per doc: 251.99\n"
          ],
          "name": "stdout"
        }
      ]
    },
    {
      "cell_type": "code",
      "metadata": {
        "id": "EeIPQwCCMjK1",
        "colab_type": "code",
        "colab": {}
      },
      "source": [
        "#Find out how many elements you will need\n",
        "totalSize = int(numDocs * (numDocs - 1) / 2)\n",
        "\n",
        "# Now intiialize two lists to store 2 similarity values. \n",
        "# 1. JaccSim to store the Jaccard Similarity\n",
        "# 2. MinHashSim will be the estimated similarity by comparing the MinHash signatures.\n",
        "\n",
        "JaccSim = [0 for x in range(totalSize)]\n",
        "MinHashSim = [0 for x in range(totalSize)]"
      ],
      "execution_count": 0,
      "outputs": []
    },
    {
      "cell_type": "code",
      "metadata": {
        "id": "R8AOKPIfPURR",
        "colab_type": "code",
        "outputId": "62532fe2-39b3-438e-d09d-a506ec5fa56a",
        "colab": {
          "base_uri": "https://localhost:8080/",
          "height": 86
        }
      },
      "source": [
        "# Define a function to map a 2D matrix co-ordinate to a 1D index.\n",
        "# If you use triangular matrix, then this logic will change. The idea\n",
        "# is explained in MMDS book Chap 6.\n",
        "\n",
        "# def getMatrixIndex(i, j):\n",
        "#   index=0\n",
        "#   k=0\n",
        "#   while(k < i):\n",
        "#     index=index+numDocs-k-1\n",
        "#     k=k+1\n",
        "    \n",
        "   \n",
        "#   return (index + j-i-1)\n",
        "\n",
        "#normal getMatrix fails for 10000 documents\n",
        "\n",
        "def getMatrixIndex(i, j):\n",
        "    if i>j:\n",
        "        k = int((j)*(numDocs-((j+1)/2.0))+i-(j))-1\n",
        "    else:\n",
        "        k = int((i)*(numDocs-((i+1)/2.0))+j-(i))-1\n",
        "\n",
        "    return k\n",
        "\n",
        "\n",
        "# ONE COMPARISON WILL BE TO STUDY HOW MUCH JACCARD SIMILARITY IS SLOWER THAN\n",
        "# COMPUTING MIN HASH. INSERT TIMERS TO DO A COMPARISON\n",
        "\n",
        "print (\"\\nCalculating Jaccard Similarities...\")\n",
        "tm = time.time()\n",
        "\n",
        "#print(documentNames)\n",
        "#print(documentShingleSets)\n",
        "# For every document pair...\n",
        "for i in range(0, numDocs):\n",
        " # print(documentNames[i])\n",
        "  s1 = documentShingleSets[documentNames[i]]\n",
        "      \n",
        "\n",
        "      # Get shingle set for document i \n",
        "  for j in range(i + 1, numDocs):\n",
        "    s2 = documentShingleSets[documentNames[j]]\n",
        "          # Get shingle set for document j\n",
        "\n",
        "          #Calculate and store the Jaccard Similarities\n",
        "    if(len(s1.union(s2)) != 0):\n",
        "      JaccSim[getMatrixIndex(i, j)] = (len(s1.intersection(s2)) / len(s1.union(s2)))\n",
        "elapsed = (time.time() - tm)\n",
        "print (\"\\nCalculating all Jaccard Similarities took %.2fsec\" % elapsed)\n",
        "\n",
        "\n",
        "# May need to delete JaccSim as it can be a very big matrix. Especially for larger \n",
        "# document sizes.\n",
        "# del JaccSim\n"
      ],
      "execution_count": 406,
      "outputs": [
        {
          "output_type": "stream",
          "text": [
            "\n",
            "Calculating Jaccard Similarities...\n",
            "\n",
            "Calculating all Jaccard Similarities took 1780.94sec\n"
          ],
          "name": "stdout"
        }
      ]
    },
    {
      "cell_type": "code",
      "metadata": {
        "id": "63rJ5e_EDhec",
        "colab_type": "code",
        "colab": {
          "base_uri": "https://localhost:8080/",
          "height": 52
        },
        "outputId": "174b6e81-f141-412d-aa2e-a8da2ea2354c"
      },
      "source": [
        "# Now perform Min Hashing. AGAIN YOU CAN INSERT TIMERS TO FIND OUT THE SPEED DIFFERENCE\n",
        "# WITH JACC SIM.\n",
        "\n",
        "print ('\\nGenerate random hash functions...')\n",
        "\n",
        "# Store the maximum shingle ID\n",
        "maximumShingleID = 2**32-1\n",
        "\n",
        "# FOR HASH FUNCTIONS IT IS BETTER TO USE PRIME NUMBERS.\n",
        "# THIS WILL BE SIMILAR TO SETTING UP THE INFINITY VALUE OF THE LARGEST POSSIBLE HASH.\n",
        "# ALSO THIS WILL REDUCE POSSIBLE COLLISIONS.\n",
        "# YOU CAN FIND A PRIME NUMBER GREATER THAN maximumShingleID at the following URL.\n",
        "# http://compoasso.free.fr/primelistweb/page/prime/liste_online_en.php\n",
        "\n",
        "oneLargePrime = 10000092337\n",
        "\n",
        "\n",
        "# The hash function we will use will be of the following form:\n",
        "#   h(x) = (a*x + b) % c\n",
        "# Where 'x' is the input value, 'a' and 'b' are random coefficients, and 'c' is\n",
        "# a prime number just greater than maximumShingleID.\n",
        "\n",
        "# Now generate a list of 'k' random coefficients while also ensuring that the\n",
        "# random number you pick for 'a' and 'b' is unique.\n"
      ],
      "execution_count": 407,
      "outputs": [
        {
          "output_type": "stream",
          "text": [
            "\n",
            "Generate random hash functions...\n"
          ],
          "name": "stdout"
        }
      ]
    },
    {
      "cell_type": "code",
      "metadata": {
        "id": "Zc2YBZnmqUxT",
        "colab_type": "code",
        "colab": {}
      },
      "source": [
        "\n",
        "\n",
        "def generateRandomCoefficients(k):\n",
        "  \n",
        "    #List of k random coefficients\n",
        "    randomCoeffList = []\n",
        "    while (k > 0):\n",
        "    # Get a random shingle ID.\n",
        "      randIndex = random.randint(0, maximumShingleID) \n",
        "  \n",
        "    # Ensure that each random number is unique.\n",
        "      while randIndex in randomCoeffList:\n",
        "        randIndex = random.randint(0, maximumShingleID) \n",
        "    \n",
        "    # Add the random number to the list.\n",
        "      randomCoeffList.append(randIndex)\n",
        "      k = k - 1\n",
        "\n",
        "    return randomCoeffList\n",
        "\n",
        "# For the 'numhashRows' number of hash functions, pick different 'a' and 'b'\n",
        "\n",
        "coefficientsA = generateRandomCoefficients(numHashRows)\n",
        "coefficientsB= generateRandomCoefficients(numHashRows)\n"
      ],
      "execution_count": 0,
      "outputs": []
    },
    {
      "cell_type": "code",
      "metadata": {
        "id": "TfAI2zsKsEYJ",
        "colab_type": "code",
        "colab": {
          "base_uri": "https://localhost:8080/",
          "height": 52
        },
        "outputId": "550423dd-1b48-4b50-ac81-6a2137451b94"
      },
      "source": [
        "print ('\\nComputing MinHash signatures for all documents...')\n",
        "\n",
        "# Create a list of documents as signature vectors\n",
        "signatures = []\n",
        "\n",
        "# Now write the code for the Fast MinHash algorithm. Rather than finding the random\n",
        "# permutations of all shingles, just find out the hashes for the IDs that are \n",
        "# actually present in the document. Then take the lowest hash code value. This will\n",
        "# be the index of the first shingle that you will encounter in the randomized order.\n",
        "# For each document...\n"
      ],
      "execution_count": 409,
      "outputs": [
        {
          "output_type": "stream",
          "text": [
            "\n",
            "Computing MinHash signatures for all documents...\n"
          ],
          "name": "stdout"
        }
      ]
    },
    {
      "cell_type": "code",
      "metadata": {
        "id": "cK0oxNyesVRL",
        "colab_type": "code",
        "colab": {
          "base_uri": "https://localhost:8080/",
          "height": 52
        },
        "outputId": "c12ea582-7ce5-4b63-a684-2a29f27ff9b6"
      },
      "source": [
        "tm=time.time()\n",
        "# For each document...\n",
        "for documentID in documentNames:\n",
        "  \n",
        "  # Get the shingle set for this document.\n",
        "  shingleIDSet = documentShingleSets[documentID]\n",
        "  \n",
        "  # The resulting minhash signature for this document. \n",
        "  signature = []\n",
        "  \n",
        "  # For each of the random hash functions...\n",
        "  for i in range(0, numHashRows):\n",
        "    \n",
        "    # For each of the shingles actually in the document, calculate its hash code\n",
        "    # using hash function 'i'. \n",
        "    \n",
        "    # Track the lowest hash ID seen. Initialize 'minHashCode' to be greater than\n",
        "    # the maximum possible value output by the hash.\n",
        "    minHashCode = oneLargePrime + 1\n",
        "    \n",
        "    # For each shingle in the document...\n",
        "    for shingleID in shingleIDSet:\n",
        "      # Evaluate the hash function.\n",
        "      hashCode = (coefficientsA[i] * shingleID + coefficientsB[i]) % oneLargePrime \n",
        "      \n",
        "      # Track the lowest hash code seen.\n",
        "      if hashCode < minHashCode:\n",
        "        minHashCode = hashCode\n",
        "\n",
        "    # Add the smallest hash code value as component number 'i' of the signature.\n",
        "    signature.append(minHashCode)\n",
        "  \n",
        "  # Store the MinHash signature for this document.\n",
        "  signatures.append(signature)\n",
        "\n",
        "# Calculate the elapsed time (in seconds)\n",
        "elapsed = (time.time() - tm)\n",
        "        \n",
        "print (\"\\nGenerating MinHash signatures took %.2fsec\" % elapsed) "
      ],
      "execution_count": 410,
      "outputs": [
        {
          "output_type": "stream",
          "text": [
            "\n",
            "Generating MinHash signatures took 455.97sec\n"
          ],
          "name": "stdout"
        }
      ]
    },
    {
      "cell_type": "code",
      "metadata": {
        "id": "b7qzWNTWBNi4",
        "colab_type": "code",
        "colab": {}
      },
      "source": [
        ""
      ],
      "execution_count": 0,
      "outputs": []
    },
    {
      "cell_type": "code",
      "metadata": {
        "id": "jsmTvRA6ADxq",
        "colab_type": "code",
        "colab": {}
      },
      "source": [
        "tsignatures = list(map(list, zip(*signatures)))  "
      ],
      "execution_count": 0,
      "outputs": []
    },
    {
      "cell_type": "code",
      "metadata": {
        "id": "OW9pAW95Bisj",
        "colab_type": "code",
        "colab": {}
      },
      "source": [
        "#print(signatures)"
      ],
      "execution_count": 0,
      "outputs": []
    },
    {
      "cell_type": "code",
      "metadata": {
        "id": "k3F_3ggSBO9D",
        "colab_type": "code",
        "colab": {}
      },
      "source": [
        "#print(tsignatures)"
      ],
      "execution_count": 0,
      "outputs": []
    },
    {
      "cell_type": "code",
      "metadata": {
        "id": "iGHsKbpTzKpy",
        "colab_type": "code",
        "colab": {}
      },
      "source": [
        "bucketSets={};\n",
        "t0 = time.time()\n",
        "    \n",
        "for i in range(0, numDocs ):\n",
        "    t=0\n",
        "    c=0\n",
        "    for j in range(0, numHashRows):\n",
        "        x=tsignatures[j][i]\n",
        "        h_code = (coefficientsA[j]*x + coefficientsB[j]) % oneLargePrime\n",
        "        if t ==0:\n",
        "                min_ = h_code\n",
        "                t=1                \n",
        "            \n",
        "        if h_code < min_:\n",
        "                min_ = h_code\n",
        "        c=c+1\n",
        "        if(c==r):\n",
        "            try:\n",
        "                bucketSets[str(min_)].add(documentNames[i])\n",
        "            except:\n",
        "                s = set()\n",
        "                s.add(documentNames[i])\n",
        "                bucketSets[str(min_)]= s\n",
        "            t=0\n",
        "            \n",
        "#bucketSets        "
      ],
      "execution_count": 0,
      "outputs": []
    },
    {
      "cell_type": "code",
      "metadata": {
        "id": "Vt9pQ4EsAzii",
        "colab_type": "code",
        "colab": {
          "base_uri": "https://localhost:8080/",
          "height": 312
        },
        "outputId": "19a4f9d9-39f9-4982-f199-21541b933800"
      },
      "source": [
        "# For every document pair...\n",
        "threshold = 0.8\n",
        "\n",
        "tp=0;fp=0\n",
        "for x in bucketSets:\n",
        "    if len(bucketSets[x])>1:\n",
        "        for i in range(len(bucketSets[x])):\n",
        "            buck_x = list(bucketSets[x])\n",
        "            seti = documentShingleSets[buck_x[i]]\n",
        "            for j in range(i+1,len(bucketSets[x])):\n",
        "                # Get shingle set for document j\n",
        "                setj = documentShingleSets[buck_x[j]]\n",
        "                #Calculate and store the Jaccard Similarities\n",
        "                if len(seti.intersection(setj))/len(seti.union(setj)) > threshold:\n",
        "                    tp+=1\n",
        "                else:\n",
        "                    fp+=1\n",
        "elapsed = (time.time() - t0)\n",
        "total_time=(time.time() - tstart)\n",
        "        \n",
        "print (\"\\n LSH took %.2fsec\\n\" % elapsed) \n",
        "print(\"total_time_taken :\\t %.2f\\n\"%total_time) \n",
        "\n",
        "print(\"numOfDocs :\\t %d\\n\"%numDocs)\n",
        "print(\"numOfHash :\\t %d\\n\"%numHashRows)\n",
        "print(\"band:\\t\\t %d\\n\"%b)\n",
        "print(\"row per band :\\t %d\\n\"%r)\n",
        "print(\"threshold =\\t %f\\n\"%threshold)\n",
        "print(\"true positive :\\t %d\\n\"%tp)  \n",
        "print(\"false positive :\\t %d\\n\"%fp) \n"
      ],
      "execution_count": 415,
      "outputs": [
        {
          "output_type": "stream",
          "text": [
            "\n",
            " LSH took 3.79sec\n",
            "\n",
            "numOfDocs :\t 10000\n",
            "\n",
            "numOfHash :\t 500\n",
            "\n",
            "band:\t\t 24\n",
            "\n",
            "row per band :\t 25\n",
            "\n",
            "threshold =\t 0.700000\n",
            "\n",
            "true positive :\t 80\n",
            "\n",
            "false positive :\t 10323\n",
            "\n"
          ],
          "name": "stdout"
        }
      ]
    },
    {
      "cell_type": "markdown",
      "metadata": {
        "id": "N-7uX88nLGOO",
        "colab_type": "text"
      },
      "source": [
        " LSH took 0.06sec\n",
        "\n",
        "numOfDocs :\t 1000\n",
        "\n",
        "numOfHash :\t 50\n",
        "\n",
        "band:\t\t 5\n",
        "\n",
        "row per band :\t 10\n",
        "\n",
        "threshold =\t 0.500000\n",
        "\n",
        "true positive :\t 10\n",
        "\n",
        "false positive :\t 101"
      ]
    },
    {
      "cell_type": "markdown",
      "metadata": {
        "id": "cha-XtCzNoXz",
        "colab_type": "text"
      },
      "source": [
        " LSH took 0.06sec\n",
        "\n",
        "numOfDocs :\t 1000\n",
        "\n",
        "numOfHash :\t 50\n",
        "\n",
        "band:\t\t 5\n",
        "\n",
        "row per band :\t 10\n",
        "\n",
        "threshold =\t 0.700000\n",
        "\n",
        "true positive :\t 10\n",
        "\n",
        "false positive :\t 48"
      ]
    },
    {
      "cell_type": "markdown",
      "metadata": {
        "id": "EmgHW2BiPChh",
        "colab_type": "text"
      },
      "source": [
        "\n",
        " LSH took 0.27sec\n",
        "\n",
        "numOfDocs :\t 2500\n",
        "\n",
        "numOfHash :\t 50\n",
        "\n",
        "band:\t\t 5\n",
        "\n",
        "row per band :\t 10\n",
        "\n",
        "threshold =\t 0.700000\n",
        "\n",
        "true positive :\t 18\n",
        "\n",
        "false positive :\t 494"
      ]
    },
    {
      "cell_type": "markdown",
      "metadata": {
        "id": "St-omsmdQBtD",
        "colab_type": "text"
      },
      "source": [
        "\n",
        " LSH took 0.52sec\n",
        "\n",
        "numOfDocs :\t 2500\n",
        "\n",
        "numOfHash :\t 250\n",
        "\n",
        "band:\t\t 5\n",
        "\n",
        "row per band :\t 50\n",
        "\n",
        "threshold =\t 0.700000\n",
        "\n",
        "true positive :\t 20\n",
        "\n",
        "false positive :\t 2515"
      ]
    },
    {
      "cell_type": "markdown",
      "metadata": {
        "id": "X9EUvh0ik1XH",
        "colab_type": "text"
      },
      "source": [
        "\n",
        " LSH took 3.79sec\n",
        "\n",
        "numOfDocs :\t 10000\n",
        "\n",
        "numOfHash :\t 500\n",
        "\n",
        "band:\t\t 24\n",
        "\n",
        "row per band :\t 25\n",
        "\n",
        "threshold =\t 0.700000\n",
        "\n",
        "true positive :\t 80\n",
        "\n",
        "false positive :\t 10323"
      ]
    }
  ]
}